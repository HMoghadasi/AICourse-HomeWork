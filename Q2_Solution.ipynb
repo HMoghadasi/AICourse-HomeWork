{
  "nbformat": 4,
  "nbformat_minor": 0,
  "metadata": {
    "colab": {
      "provenance": [],
      "authorship_tag": "ABX9TyM3w2wVpvaT/3d31D9Fi7tB",
      "include_colab_link": true
    },
    "kernelspec": {
      "name": "python3",
      "display_name": "Python 3"
    },
    "language_info": {
      "name": "python"
    }
  },
  "cells": [
    {
      "cell_type": "markdown",
      "metadata": {
        "id": "view-in-github",
        "colab_type": "text"
      },
      "source": [
        "<a href=\"https://colab.research.google.com/github/HMoghadasi/AICourse-HomeWork/blob/main/Q2_Solution.ipynb\" target=\"_parent\"><img src=\"https://colab.research.google.com/assets/colab-badge.svg\" alt=\"Open In Colab\"/></a>"
      ]
    },
    {
      "cell_type": "code",
      "execution_count": 3,
      "metadata": {
        "colab": {
          "base_uri": "https://localhost:8080/"
        },
        "id": "TlNeC7VCCOA9",
        "outputId": "455fe5d3-7980-4f11-f3e4-8b7be8d3f1d6"
      },
      "outputs": [
        {
          "output_type": "stream",
          "name": "stdout",
          "text": [
            "Enter your name: hossein\n",
            "Enter your family name: moghadasi\n",
            "Type of first_name: <class 'str'>\n",
            "Type of last_name: <class 'str'>\n",
            "\n",
            "Hello hossein moghadasi\n"
          ]
        }
      ],
      "source": [
        "#HMoghadasi\n",
        "#Q2:code to get two string first print the type of input and then put them together(give it your name and last name)\n",
        "FirstName = input(\"Enter your name: \")\n",
        "Surname = input(\"Enter your family name: \")\n",
        "print(\"Type of first_name:\", type(FirstName))\n",
        "print(\"Type of last_name:\", type(Surname))\n",
        "print(\"\\nHello\", FirstName + \" \" + Surname)"
      ]
    }
  ]
}