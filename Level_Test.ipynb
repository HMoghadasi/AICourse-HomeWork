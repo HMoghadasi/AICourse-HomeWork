{
  "cells": [
    {
      "cell_type": "markdown",
      "metadata": {
        "id": "view-in-github",
        "colab_type": "text"
      },
      "source": [
        "<a href=\"https://colab.research.google.com/github/HMoghadasi/AICourse-HomeWork/blob/main/Level_Test.ipynb\" target=\"_parent\"><img src=\"https://colab.research.google.com/assets/colab-badge.svg\" alt=\"Open In Colab\"/></a>"
      ]
    },
    {
      "cell_type": "markdown",
      "metadata": {
        "id": "ls7oZd2gBFAA"
      },
      "source": [
        "![alt text](https://apac.ee.kntu.ac.ir/wp-content/uploads/2024/09/apacgroup-logo.svg)"
      ]
    },
    {
      "cell_type": "markdown",
      "metadata": {
        "id": "FxMGO7AiBFAB"
      },
      "source": [
        "# Level Test\n",
        "### Note: people who can answer this test **do not** need to attend first 50 hour of Python course"
      ]
    },
    {
      "cell_type": "markdown",
      "metadata": {
        "id": "dS-NV0KLBFAB"
      },
      "source": [
        "The questions will be given and you sould code in the box below"
      ]
    },
    {
      "cell_type": "markdown",
      "metadata": {
        "id": "JmrmAQoWBFAC"
      },
      "source": [
        "# Q1 :\n",
        "calaulate the mod of three digit prime number(choose on your own) to 2 and proof that it is True\n",
        "\n"
      ]
    },
    {
      "cell_type": "code",
      "execution_count": null,
      "metadata": {
        "vscode": {
          "languageId": "plaintext"
        },
        "id": "Ih-yOmn0BFAC",
        "outputId": "76ea782f-a408-4425-8938-d4efdceffa5b",
        "colab": {
          "base_uri": "https://localhost:8080/"
        }
      },
      "outputs": [
        {
          "output_type": "stream",
          "name": "stdout",
          "text": [
            "The modulus of 102 to 2 is 0.\n",
            "The Quotient of 102 to 2 is 51.\n",
            "calculation is True\n"
          ]
        }
      ],
      "source": [
        "#HMoghadasi\n",
        "#Q1:Calaulate the mod of three digit prime number(choose on your own) to 2 and proof that it is True\n",
        "PrimeNum = 102\n",
        "Divisor = 2\n",
        "Dividend = PrimeNum\n",
        "Remainder = Dividend % 2\n",
        "Quotient = Dividend // 2\n",
        "print(f\"The modulus of {PrimeNum} to 2 is {Remainder}.\")\n",
        "print(f\"The Quotient of {PrimeNum} to 2 is {Quotient}.\")\n",
        "# if PrimeNum=Quotient*Divisor+Remainder then calculation is True\n",
        "if PrimeNum == Quotient*Divisor + Remainder:\n",
        "  print(\"calculation is True\")\n",
        "else:\n",
        "  print(\"{calculation is False\")"
      ]
    },
    {
      "cell_type": "markdown",
      "metadata": {
        "id": "Nupdoxw1BFAC"
      },
      "source": [
        "# Q2:\n",
        "code to get two string first print the type of input and then put them together(give it your name and last name)\n"
      ]
    },
    {
      "cell_type": "code",
      "execution_count": 2,
      "metadata": {
        "vscode": {
          "languageId": "plaintext"
        },
        "id": "NpkVSmsMBFAC",
        "colab": {
          "base_uri": "https://localhost:8080/"
        },
        "outputId": "1e96173c-4e84-4e35-ee8f-7f742ca20d3f"
      },
      "outputs": [
        {
          "output_type": "stream",
          "name": "stdout",
          "text": [
            "Enter your name: hossein\n",
            "Enter your family name: moghadasi\n",
            "Type of first_name: <class 'str'>\n",
            "Type of last_name: <class 'str'>\n",
            "\n",
            "Hello hossein moghadasi\n"
          ]
        }
      ],
      "source": [
        "#HMoghadasi\n",
        "#Q2:code to get two string first print the type of input and then put them together(give it your name and last name)\n",
        "FirstName = input(\"Enter your name: \")\n",
        "Surname = input(\"Enter your family name: \")\n",
        "print(\"Type of first_name:\", type(FirstName))\n",
        "print(\"Type of last_name:\", type(Surname))\n",
        "print(\"\\nHello\", FirstName + \" \" + Surname)"
      ]
    },
    {
      "cell_type": "markdown",
      "metadata": {
        "id": "6gJ_AbejBFAC"
      },
      "source": [
        "# Q3:\n",
        "create a list with 5 member and change the the three one to Iran"
      ]
    },
    {
      "cell_type": "code",
      "execution_count": null,
      "metadata": {
        "vscode": {
          "languageId": "plaintext"
        },
        "id": "W9mrz_b0BFAD"
      },
      "outputs": [],
      "source": []
    },
    {
      "cell_type": "markdown",
      "metadata": {
        "id": "zdYpLlxEBFAD"
      },
      "source": [
        "# Q4:\n",
        "create a dictionary with 5 member assign a b c d e to 1 to 5 and print Dictionary items"
      ]
    },
    {
      "cell_type": "code",
      "execution_count": null,
      "metadata": {
        "vscode": {
          "languageId": "plaintext"
        },
        "id": "03AF2HLPBFAD"
      },
      "outputs": [],
      "source": []
    },
    {
      "cell_type": "markdown",
      "metadata": {
        "id": "OxlRyZKPBFAD"
      },
      "source": [
        "# Q5:\n",
        "Open an existing file in your computer and print last line(you can make a txt file then do it)"
      ]
    },
    {
      "cell_type": "code",
      "execution_count": null,
      "metadata": {
        "vscode": {
          "languageId": "plaintext"
        },
        "id": "d2m2lgIeBFAD"
      },
      "outputs": [],
      "source": []
    },
    {
      "cell_type": "markdown",
      "metadata": {
        "id": "67azXmc9BFAE"
      },
      "source": [
        "# Q6:\n",
        "Check 255 is greater than 188 and 255 is smaller than 189 in one line"
      ]
    },
    {
      "cell_type": "code",
      "execution_count": null,
      "metadata": {
        "vscode": {
          "languageId": "plaintext"
        },
        "id": "o-ODY647BFAE"
      },
      "outputs": [],
      "source": []
    },
    {
      "cell_type": "markdown",
      "metadata": {
        "id": "MBSsARM-BFAE"
      },
      "source": [
        "# Q7:\n",
        "assign a your name to variable name person check it among your friends name if its true print 'HOORA'"
      ]
    },
    {
      "cell_type": "code",
      "execution_count": null,
      "metadata": {
        "vscode": {
          "languageId": "plaintext"
        },
        "id": "8xhbE6-3BFAE"
      },
      "outputs": [],
      "source": []
    },
    {
      "cell_type": "markdown",
      "metadata": {
        "id": "tbS96Dp1BFAE"
      },
      "source": [
        "# Q8:\n",
        "create a list 1 to 10 then check for even numbers then print all using for loops"
      ]
    },
    {
      "cell_type": "code",
      "execution_count": null,
      "metadata": {
        "vscode": {
          "languageId": "plaintext"
        },
        "id": "5QGRgPjfBFAF"
      },
      "outputs": [],
      "source": []
    },
    {
      "cell_type": "markdown",
      "metadata": {
        "id": "q2Adui0PBFAF"
      },
      "source": [
        "# Q9:\n",
        "consider x is 12 while x is between 10 to 15 print good else continue"
      ]
    },
    {
      "cell_type": "code",
      "execution_count": null,
      "metadata": {
        "vscode": {
          "languageId": "plaintext"
        },
        "id": "pP3CogwCBFAF"
      },
      "outputs": [],
      "source": []
    },
    {
      "cell_type": "markdown",
      "metadata": {
        "id": "GXkhVvE_BFAF"
      },
      "source": [
        "# Q10:\n",
        "make a list from 0 to 10000 with step of 100 using \"range\" shuffle this list and pick index 10"
      ]
    },
    {
      "cell_type": "code",
      "execution_count": null,
      "metadata": {
        "vscode": {
          "languageId": "plaintext"
        },
        "id": "y9nR_RIHBFAF"
      },
      "outputs": [],
      "source": []
    },
    {
      "cell_type": "markdown",
      "metadata": {
        "id": "JZwFK8jnBFAF"
      },
      "source": [
        "# Q11:\n",
        "Consider list of 1 to 5 append 6 in it and count even number in it using a function"
      ]
    },
    {
      "cell_type": "code",
      "execution_count": null,
      "metadata": {
        "vscode": {
          "languageId": "plaintext"
        },
        "id": "i61n6fIcBFAG"
      },
      "outputs": [],
      "source": []
    },
    {
      "cell_type": "markdown",
      "metadata": {
        "id": "LNkxD9XgBFAG"
      },
      "source": [
        "# Q12:\n",
        "write a function that get string and uppercase the first letter if it's capital print it's True"
      ]
    },
    {
      "cell_type": "code",
      "execution_count": null,
      "metadata": {
        "vscode": {
          "languageId": "plaintext"
        },
        "id": "1PMsoz6TBFAG"
      },
      "outputs": [],
      "source": []
    }
  ],
  "metadata": {
    "language_info": {
      "name": "python"
    },
    "colab": {
      "provenance": [],
      "include_colab_link": true
    },
    "kernelspec": {
      "name": "python3",
      "display_name": "Python 3"
    }
  },
  "nbformat": 4,
  "nbformat_minor": 0
}