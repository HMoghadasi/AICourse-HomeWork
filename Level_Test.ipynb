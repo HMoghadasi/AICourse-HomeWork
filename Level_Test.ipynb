{
  "cells": [
    {
      "cell_type": "markdown",
      "metadata": {
        "id": "view-in-github",
        "colab_type": "text"
      },
      "source": [
        "<a href=\"https://colab.research.google.com/github/HMoghadasi/AICourse-HomeWork/blob/main/Level_Test.ipynb\" target=\"_parent\"><img src=\"https://colab.research.google.com/assets/colab-badge.svg\" alt=\"Open In Colab\"/></a>"
      ]
    },
    {
      "cell_type": "markdown",
      "metadata": {
        "id": "ls7oZd2gBFAA"
      },
      "source": [
        "![alt text](https://apac.ee.kntu.ac.ir/wp-content/uploads/2024/09/apacgroup-logo.svg)"
      ]
    },
    {
      "cell_type": "markdown",
      "metadata": {
        "id": "FxMGO7AiBFAB"
      },
      "source": [
        "# Level Test\n",
        "### Note: people who can answer this test **do not** need to attend first 50 hour of Python course"
      ]
    },
    {
      "cell_type": "markdown",
      "metadata": {
        "id": "dS-NV0KLBFAB"
      },
      "source": [
        "The questions will be given and you sould code in the box below"
      ]
    },
    {
      "cell_type": "markdown",
      "metadata": {
        "id": "JmrmAQoWBFAC"
      },
      "source": [
        "# Q1 :\n",
        "calaulate the mod of three digit prime number(choose on your own) to 2 and proof that it is True\n",
        "\n"
      ]
    },
    {
      "cell_type": "code",
      "execution_count": null,
      "metadata": {
        "vscode": {
          "languageId": "plaintext"
        },
        "id": "Ih-yOmn0BFAC",
        "outputId": "76ea782f-a408-4425-8938-d4efdceffa5b",
        "colab": {
          "base_uri": "https://localhost:8080/"
        }
      },
      "outputs": [
        {
          "output_type": "stream",
          "name": "stdout",
          "text": [
            "The modulus of 102 to 2 is 0.\n",
            "The Quotient of 102 to 2 is 51.\n",
            "calculation is True\n"
          ]
        }
      ],
      "source": [
        "#HMoghadasi\n",
        "#Q1:Calaulate the mod of three digit prime number(choose on your own) to 2 and proof that it is True\n",
        "PrimeNum = 102\n",
        "Divisor = 2\n",
        "Dividend = PrimeNum\n",
        "Remainder = Dividend % 2\n",
        "Quotient = Dividend // 2\n",
        "print(f\"The modulus of {PrimeNum} to 2 is {Remainder}.\")\n",
        "print(f\"The Quotient of {PrimeNum} to 2 is {Quotient}.\")\n",
        "# if PrimeNum=Quotient*Divisor+Remainder then calculation is True\n",
        "if PrimeNum == Quotient*Divisor + Remainder:\n",
        "  print(\"calculation is True\")\n",
        "else:\n",
        "  print(\"{calculation is False\")"
      ]
    },
    {
      "cell_type": "markdown",
      "metadata": {
        "id": "Nupdoxw1BFAC"
      },
      "source": [
        "# Q2:\n",
        "code to get two string first print the type of input and then put them together(give it your name and last name)\n"
      ]
    },
    {
      "cell_type": "code",
      "execution_count": null,
      "metadata": {
        "vscode": {
          "languageId": "plaintext"
        },
        "id": "NpkVSmsMBFAC",
        "colab": {
          "base_uri": "https://localhost:8080/"
        },
        "outputId": "1e96173c-4e84-4e35-ee8f-7f742ca20d3f"
      },
      "outputs": [
        {
          "output_type": "stream",
          "name": "stdout",
          "text": [
            "Enter your name: hossein\n",
            "Enter your family name: moghadasi\n",
            "Type of first_name: <class 'str'>\n",
            "Type of last_name: <class 'str'>\n",
            "\n",
            "Hello hossein moghadasi\n"
          ]
        }
      ],
      "source": [
        "#HMoghadasi\n",
        "#Q2:code to get two string first print the type of input and then put them together(give it your name and last name)\n",
        "FirstName = input(\"Enter your name: \")\n",
        "Surname = input(\"Enter your family name: \")\n",
        "print(\"Type of first_name:\", type(FirstName))\n",
        "print(\"Type of last_name:\", type(Surname))\n",
        "print(\"\\nHello\", FirstName + \" \" + Surname)"
      ]
    },
    {
      "cell_type": "markdown",
      "metadata": {
        "id": "6gJ_AbejBFAC"
      },
      "source": [
        "# Q3:\n",
        "create a list with 5 member and change the the three one to Iran"
      ]
    },
    {
      "cell_type": "code",
      "execution_count": null,
      "metadata": {
        "vscode": {
          "languageId": "plaintext"
        },
        "id": "W9mrz_b0BFAD",
        "colab": {
          "base_uri": "https://localhost:8080/"
        },
        "outputId": "564321c0-da19-4794-ee1d-352f96aae7e8"
      },
      "outputs": [
        {
          "output_type": "stream",
          "name": "stdout",
          "text": [
            "['A', 'B', 'C', 'D', 'E']\n",
            "['Iran', 'B', 'Iran', 'D', 'Iran']\n"
          ]
        }
      ],
      "source": [
        "#HMoghadasi\n",
        "#Q3:create a list with 5 member and change the the three one to Iran\n",
        "my_list = [\"A\", \"B\", \"C\", \"D\", \"E\"]\n",
        "print(my_list)\n",
        "for x in range(0, 5, 2):\n",
        "  my_list[x] = \"Iran\"\n",
        "print(my_list)"
      ]
    },
    {
      "cell_type": "markdown",
      "metadata": {
        "id": "zdYpLlxEBFAD"
      },
      "source": [
        "# Q4:\n",
        "create a dictionary with 5 member assign a b c d e to 1 to 5 and print Dictionary items"
      ]
    },
    {
      "cell_type": "code",
      "execution_count": null,
      "metadata": {
        "vscode": {
          "languageId": "plaintext"
        },
        "id": "03AF2HLPBFAD",
        "colab": {
          "base_uri": "https://localhost:8080/"
        },
        "outputId": "c666319a-97ec-4947-eb53-273b34f2f13d"
      },
      "outputs": [
        {
          "output_type": "stream",
          "name": "stdout",
          "text": [
            "Dictionary items:\n",
            "The meaning of the 'a' is '1'\n",
            "The meaning of the 'b' is '2'\n",
            "The meaning of the 'c' is '3'\n",
            "The meaning of the 'd' is '4'\n",
            "The meaning of the 'e' is '5'\n"
          ]
        }
      ],
      "source": [
        "#HMoghadasi\n",
        "#Q4: create a dictionary with 5 member assign a b c d e to 1 to 5 and print Dictionary items\n",
        "MainWord = [\"a\", \"b\", \"c\", \"d\", \"e\"]\n",
        "Translated = [\"1\", \"2\", \"3\", \"4\", \"5\"]\n",
        "print(\"Dictionary items:\")\n",
        "for key in range(0, len(MainWord)):\n",
        "\tprint(\"The meaning of the '\" + MainWord[key]+ \"' is '\" + Translated[key] +\"'\")"
      ]
    },
    {
      "cell_type": "markdown",
      "metadata": {
        "id": "OxlRyZKPBFAD"
      },
      "source": [
        "# Q5:\n",
        "Open an existing file in your computer and print last line(you can make a txt file then do it)"
      ]
    },
    {
      "cell_type": "code",
      "execution_count": null,
      "metadata": {
        "vscode": {
          "languageId": "plaintext"
        },
        "id": "d2m2lgIeBFAD",
        "colab": {
          "base_uri": "https://localhost:8080/"
        },
        "outputId": "c87e9191-8876-496c-a530-9f4f208931d8"
      },
      "outputs": [
        {
          "output_type": "stream",
          "name": "stdout",
          "text": [
            "refrence : \"https://en.wikipedia.org/wiki/Artificial_intelligence\""
          ]
        }
      ],
      "source": [
        "#HMoghadasi\n",
        "#Q5: Open an existing file in your computer and print last line (you can make a txt file then do it)\n",
        "filename = '/content/ArtificialIntelligence.txt'\n",
        "with open(filename, 'r') as file:\n",
        "    lines = file.readlines()\n",
        "\n",
        "if lines:\n",
        "    last_line = lines[-1]\n",
        "    print(last_line, end='')\n",
        "else:\n",
        "    print(\"The file is empty.\")"
      ]
    },
    {
      "cell_type": "markdown",
      "metadata": {
        "id": "67azXmc9BFAE"
      },
      "source": [
        "# Q6:\n",
        "Check 255 is greater than 188 and 255 is smaller than 189 in one line"
      ]
    },
    {
      "cell_type": "code",
      "execution_count": null,
      "metadata": {
        "vscode": {
          "languageId": "plaintext"
        },
        "id": "o-ODY647BFAE",
        "colab": {
          "base_uri": "https://localhost:8080/"
        },
        "outputId": "0ddffac7-2070-4aa0-90c9-8d46f9aeddf1"
      },
      "outputs": [
        {
          "output_type": "stream",
          "name": "stdout",
          "text": [
            "the number is't between (188,189)\n"
          ]
        }
      ],
      "source": [
        "#HMoghadasi\n",
        "#Q6: Check 255 is greater than 188 and 255 is smaller than 189 in one line\n",
        "MyNum = 255\n",
        "if 188< MyNum < 189: # MyNum > 188 and MyNum < 189:\n",
        "  print(\"the number is between (188,189)\")\n",
        "else:\n",
        "  print(\"the number is't between (188,189)\")\n"
      ]
    },
    {
      "cell_type": "markdown",
      "metadata": {
        "id": "MBSsARM-BFAE"
      },
      "source": [
        "# Q7:\n",
        "assign a your name to variable name person check it among your friends name if its true print 'HOORA'"
      ]
    },
    {
      "cell_type": "code",
      "execution_count": null,
      "metadata": {
        "vscode": {
          "languageId": "plaintext"
        },
        "id": "8xhbE6-3BFAE",
        "colab": {
          "base_uri": "https://localhost:8080/"
        },
        "outputId": "4fb06f7c-52b0-47cf-b825-d91fce97072e"
      },
      "outputs": [
        {
          "output_type": "stream",
          "name": "stdout",
          "text": [
            "HOORA\n"
          ]
        }
      ],
      "source": [
        "#HMoghadasi\n",
        "#Q7: assign a your name to variable name person check it among your friends name if its true print 'HOORA'\n",
        "MyName = \"Hossein\"\n",
        "MyFriendsNames = [\"Reza\", \"Amir\", \"Ali\", \"Hossein\"]\n",
        "if MyName in MyFriendsNames:\n",
        "  print(\"HOORA\")\n",
        "else:\n",
        "  print(\"Aaaah\")"
      ]
    },
    {
      "cell_type": "markdown",
      "metadata": {
        "id": "tbS96Dp1BFAE"
      },
      "source": [
        "# Q8:\n",
        "create a list 1 to 10 then check for even numbers then print all using for loops"
      ]
    },
    {
      "cell_type": "code",
      "execution_count": 11,
      "metadata": {
        "vscode": {
          "languageId": "plaintext"
        },
        "id": "5QGRgPjfBFAF",
        "outputId": "640a5d0d-87ba-4ed4-8ee1-0754a5f04c5c",
        "colab": {
          "base_uri": "https://localhost:8080/"
        }
      },
      "outputs": [
        {
          "output_type": "stream",
          "name": "stdout",
          "text": [
            "2\n",
            "4\n",
            "6\n",
            "8\n",
            "10\n"
          ]
        }
      ],
      "source": [
        "#HMoghadasi\n",
        "#Q8: create a list 1 to 10 then check for even numbers then print all using for loops\n",
        "numbers = list(range(1, 11))\n",
        "EvenNum = []\n",
        "for num in numbers:\n",
        "  if num % 2 == 0: EvenNum = EvenNum + [num]\n",
        "for num in EvenNum: print(num)"
      ]
    },
    {
      "cell_type": "markdown",
      "metadata": {
        "id": "q2Adui0PBFAF"
      },
      "source": [
        "# Q9:\n",
        "consider x is 12 while x is between 10 to 15 print good else continue"
      ]
    },
    {
      "cell_type": "code",
      "execution_count": 9,
      "metadata": {
        "vscode": {
          "languageId": "plaintext"
        },
        "id": "pP3CogwCBFAF",
        "outputId": "4fc3e484-0903-4cd4-887d-76425fd5cf60",
        "colab": {
          "base_uri": "https://localhost:8080/"
        }
      },
      "outputs": [
        {
          "output_type": "stream",
          "name": "stdout",
          "text": [
            "good\n"
          ]
        }
      ],
      "source": [
        "#HMoghadasi\n",
        "#Q9: consider x is 12 while x is between 10 to 15 print good else continue\n",
        "x = 12\n",
        "if 10 <= x <= 15: print(\"good\")"
      ]
    },
    {
      "cell_type": "markdown",
      "metadata": {
        "id": "GXkhVvE_BFAF"
      },
      "source": [
        "# Q10:\n",
        "make a list from 0 to 10000 with step of 100 using \"range\" shuffle this list and pick index 10"
      ]
    },
    {
      "cell_type": "code",
      "execution_count": 20,
      "metadata": {
        "vscode": {
          "languageId": "plaintext"
        },
        "id": "y9nR_RIHBFAF",
        "outputId": "90bf3d68-313a-4f20-b87c-f867bc809bb9",
        "colab": {
          "base_uri": "https://localhost:8080/"
        }
      },
      "outputs": [
        {
          "output_type": "stream",
          "name": "stdout",
          "text": [
            "[0, 100, 200, 300, 400, 500, 600, 700, 800, 900, 1000, 1100, 1200, 1300, 1400, 1500, 1600, 1700, 1800, 1900]\n",
            "[4100, 4900, 1500, 200, 2600, 4200, 9900, 3300, 8200, 2800, 9400, 2700, 300, 600, 1200, 1100, 3000, 4800, 6200, 4400]\n",
            "9400\n"
          ]
        }
      ],
      "source": [
        "#HMoghadasi\n",
        "#Q9: make a list from 0 to 10000 with step of 100 using \"range\" shuffle this list and pick index 10\n",
        "import random\n",
        "numbers = list(range(0, 10000, 100))\n",
        "print(numbers[0:20])\n",
        "random.shuffle(numbers)\n",
        "print(numbers[0:20])\n",
        "print(numbers[10])"
      ]
    },
    {
      "cell_type": "markdown",
      "metadata": {
        "id": "JZwFK8jnBFAF"
      },
      "source": [
        "# Q11:\n",
        "Consider list of 1 to 5 append 6 in it and count even number in it using a function"
      ]
    },
    {
      "cell_type": "code",
      "execution_count": null,
      "metadata": {
        "vscode": {
          "languageId": "plaintext"
        },
        "id": "i61n6fIcBFAG"
      },
      "outputs": [],
      "source": []
    },
    {
      "cell_type": "markdown",
      "metadata": {
        "id": "LNkxD9XgBFAG"
      },
      "source": [
        "# Q12:\n",
        "write a function that get string and uppercase the first letter if it's capital print it's True"
      ]
    },
    {
      "cell_type": "code",
      "execution_count": null,
      "metadata": {
        "vscode": {
          "languageId": "plaintext"
        },
        "id": "1PMsoz6TBFAG"
      },
      "outputs": [],
      "source": []
    }
  ],
  "metadata": {
    "language_info": {
      "name": "python"
    },
    "colab": {
      "provenance": [],
      "include_colab_link": true
    },
    "kernelspec": {
      "name": "python3",
      "display_name": "Python 3"
    }
  },
  "nbformat": 4,
  "nbformat_minor": 0
}