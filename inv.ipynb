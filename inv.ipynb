{
  "nbformat": 4,
  "nbformat_minor": 0,
  "metadata": {
    "colab": {
      "provenance": [],
      "authorship_tag": "ABX9TyO1oLjbMldpsbi/p93zWUtq",
      "include_colab_link": true
    },
    "kernelspec": {
      "name": "python3",
      "display_name": "Python 3"
    },
    "language_info": {
      "name": "python"
    }
  },
  "cells": [
    {
      "cell_type": "markdown",
      "metadata": {
        "id": "view-in-github",
        "colab_type": "text"
      },
      "source": [
        "<a href=\"https://colab.research.google.com/github/HMoghadasi/AICourse-HomeWork/blob/main/inv.ipynb\" target=\"_parent\"><img src=\"https://colab.research.google.com/assets/colab-badge.svg\" alt=\"Open In Colab\"/></a>"
      ]
    },
    {
      "cell_type": "code",
      "execution_count": null,
      "metadata": {
        "id": "tVvgAAre6eEE"
      },
      "outputs": [],
      "source": [
        "import pandas as pd\n",
        "import numpy as np\n",
        "import matplotlib.pyplot as plt\n",
        "\n",
        "# 1. خواندن فایل اکسل\n",
        "file_path = '\\content\\matrix.xlsx'  # مسیر فایل اکسل خود را وارد کنید\n",
        "df = pd.read_excel(file_path, header=None)\n",
        "\n",
        "# 2. تبدیل به ماتریس عددی\n",
        "matrix = df.to_numpy()\n",
        "\n",
        "# بررسی ابعاد ماتریس\n",
        "if matrix.shape != (5000, 5000):\n",
        "    raise ValueError(\"ماتریس باید ۵۰۰۰x۵۰۰۰ باشد!\")\n",
        "\n",
        "# 3. محاسبه معکوس ماتریس\n",
        "try:\n",
        "    inv_matrix = np.linalg.inv(matrix)\n",
        "except np.linalg.LinAlgError:\n",
        "    print(\"ماتریس تکین است و معکوس ندارد!\")\n",
        "    exit()\n",
        "\n",
        "# 4. رسم ۳ سطر اول\n",
        "plt.figure(figsize=(12, 6))\n",
        "\n",
        "for i in range(3):\n",
        "    plt.plot(matrix[i], label=f'سطر {i+1}')\n",
        "\n",
        "plt.title('منحنی ۳ سطر اول ماتریس')\n",
        "plt.xlabel('ستون')\n",
        "plt.ylabel('مقدار')\n",
        "plt.legend()\n",
        "plt.grid(True)\n",
        "plt.show()"
      ]
    },
    {
      "cell_type": "markdown",
      "source": [
        "# New Section"
      ],
      "metadata": {
        "id": "fMdKXfaf6uVZ"
      }
    },
    {
      "cell_type": "markdown",
      "source": [
        "# New Section"
      ],
      "metadata": {
        "id": "wzgTx66l6uyv"
      }
    }
  ]
}