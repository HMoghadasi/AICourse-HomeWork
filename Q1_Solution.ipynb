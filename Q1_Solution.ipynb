{
  "nbformat": 4,
  "nbformat_minor": 0,
  "metadata": {
    "colab": {
      "provenance": [],
      "authorship_tag": "ABX9TyMWZf683yUoQIr/KXL8Q60V",
      "include_colab_link": true
    },
    "kernelspec": {
      "name": "python3",
      "display_name": "Python 3"
    },
    "language_info": {
      "name": "python"
    }
  },
  "cells": [
    {
      "cell_type": "markdown",
      "metadata": {
        "id": "view-in-github",
        "colab_type": "text"
      },
      "source": [
        "<a href=\"https://colab.research.google.com/github/HMoghadasi/AICourse-HomeWork/blob/main/Q1_Solution.ipynb\" target=\"_parent\"><img src=\"https://colab.research.google.com/assets/colab-badge.svg\" alt=\"Open In Colab\"/></a>"
      ]
    },
    {
      "cell_type": "code",
      "execution_count": 3,
      "metadata": {
        "colab": {
          "base_uri": "https://localhost:8080/"
        },
        "id": "EspE6P8U4VfS",
        "outputId": "5790b7c0-e0e0-48cf-fb38-7c1b5eae40d0"
      },
      "outputs": [
        {
          "output_type": "stream",
          "name": "stdout",
          "text": [
            "The modulus of 102 to 2 is 0.\n",
            "The Quotient of 102 to 2 is 51.\n",
            "calculation is True\n"
          ]
        }
      ],
      "source": [
        "#HMoghadasi\n",
        "#Q1:Calaulate the mod of three digit prime number(choose on your own) to 2 and proof that it is True\n",
        "PrimeNum = 102\n",
        "Divisor = 2\n",
        "Dividend = PrimeNum\n",
        "Remainder = Dividend % 2\n",
        "Quotient = Dividend // 2\n",
        "print(f\"The modulus of {PrimeNum} to 2 is {Remainder}.\")\n",
        "print(f\"The Quotient of {PrimeNum} to 2 is {Quotient}.\")\n",
        "# if PrimeNum=Quotient*Divisor+Remainder then calculation is True\n",
        "if PrimeNum == Quotient*Divisor + Remainder:\n",
        "  print(\"calculation is True\")\n",
        "else:\n",
        "  print(\"{calculation is False\")"
      ]
    }
  ]
}